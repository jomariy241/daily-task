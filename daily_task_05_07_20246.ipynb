{
  "nbformat": 4,
  "nbformat_minor": 0,
  "metadata": {
    "colab": {
      "provenance": [],
      "authorship_tag": "ABX9TyP2qm93+n3w0QVhHxuSTuTb",
      "include_colab_link": true
    },
    "kernelspec": {
      "name": "python3",
      "display_name": "Python 3"
    },
    "language_info": {
      "name": "python"
    }
  },
  "cells": [
    {
      "cell_type": "markdown",
      "metadata": {
        "id": "view-in-github",
        "colab_type": "text"
      },
      "source": [
        "<a href=\"https://colab.research.google.com/github/jomariy241/daily-task/blob/main/daily_task_05_07_20246.ipynb\" target=\"_parent\"><img src=\"https://colab.research.google.com/assets/colab-badge.svg\" alt=\"Open In Colab\"/></a>"
      ]
    },
    {
      "cell_type": "code",
      "execution_count": null,
      "metadata": {
        "colab": {
          "base_uri": "https://localhost:8080/"
        },
        "id": "fZqWtawu71Gl",
        "outputId": "ed9e0868-2e61-4b6f-c8c5-f6144acf5049"
      },
      "outputs": [
        {
          "output_type": "stream",
          "name": "stdout",
          "text": [
            "enter a number5\n",
            "enter anumber6\n",
            "enter a number3\n",
            "6\n"
          ]
        }
      ],
      "source": [
        "def lar(a,b,c):\n",
        "  if a>b and a>c:\n",
        "    lar=a\n",
        "  elif b>a and b>c:\n",
        "    lar=b\n",
        "  elif c>a and c>b:\n",
        "    lar=c\n",
        "  return(lar)\n",
        "user1=int(input(\"enter a number\"))\n",
        "user2=int(input(\"enter anumber\"))\n",
        "user3=int(input(\"enter a number\"))\n",
        "ans=lar(user1,user2,user3)\n",
        "print(ans)"
      ]
    },
    {
      "cell_type": "code",
      "source": [
        "def area(r):\n",
        "  ac=3.14*r*r\n",
        "  return(ac)\n",
        "a=int(input(\"enter radius\"))\n",
        "r=area(a)\n",
        "print(r)"
      ],
      "metadata": {
        "colab": {
          "base_uri": "https://localhost:8080/"
        },
        "id": "J_UJauWw9CXa",
        "outputId": "93a64924-adb1-446e-d317-4bf4cbe5a401"
      },
      "execution_count": null,
      "outputs": [
        {
          "output_type": "stream",
          "name": "stdout",
          "text": [
            "enter radius5\n",
            "78.5\n"
          ]
        }
      ]
    },
    {
      "cell_type": "code",
      "source": [
        "n=int(input(\"input a no.\"))\n",
        "if n>1:\n",
        "  for i in range(2,n):\n",
        "     if(n%i==0):\n",
        "      print(n,\"is not prime\")\n",
        "      break\n",
        "  else:\n",
        "    print(n,\"is prime\")\n",
        "else:\n",
        "  print(n,\"is prime\")\n",
        "\n"
      ],
      "metadata": {
        "id": "4OtmYD5UANX6",
        "colab": {
          "base_uri": "https://localhost:8080/"
        },
        "outputId": "6afae4bb-d339-4ca9-e44e-5e3eab63f777"
      },
      "execution_count": 21,
      "outputs": [
        {
          "output_type": "stream",
          "name": "stdout",
          "text": [
            "input a no.6\n",
            "6 is not prime\n"
          ]
        }
      ]
    },
    {
      "cell_type": "code",
      "source": [
        "def palin(str):\n",
        " pl=str[::-1]\n",
        " if str==pl:\n",
        "  return(True)\n",
        " else:\n",
        "  return(False)\n",
        "s=input(\"enter a string \")\n",
        "palin(s)\n",
        "\n",
        "\n"
      ],
      "metadata": {
        "colab": {
          "base_uri": "https://localhost:8080/"
        },
        "id": "RFJbsZLLGljH",
        "outputId": "8889951e-0878-44ad-b53f-effc5d4ae311"
      },
      "execution_count": 23,
      "outputs": [
        {
          "name": "stdout",
          "output_type": "stream",
          "text": [
            "enter a string malayalam\n"
          ]
        },
        {
          "output_type": "execute_result",
          "data": {
            "text/plain": [
              "True"
            ]
          },
          "metadata": {},
          "execution_count": 23
        }
      ]
    },
    {
      "cell_type": "code",
      "source": [
        "def sum(n):\n",
        "  s=0\n",
        "  for i in n:\n",
        "    s+=i\n",
        "  return(s)\n",
        "list=[2,4,6,8]\n",
        "a=sum(list)\n",
        "print(a)\n",
        "\n"
      ],
      "metadata": {
        "colab": {
          "base_uri": "https://localhost:8080/"
        },
        "id": "CPvCY-L-HpLM",
        "outputId": "beb8f0c0-12c2-4b83-a12f-21099fe452de"
      },
      "execution_count": 28,
      "outputs": [
        {
          "output_type": "stream",
          "name": "stdout",
          "text": [
            "20\n"
          ]
        }
      ]
    },
    {
      "cell_type": "code",
      "source": [
        "def avg(n):\n",
        "  a=0\n",
        "  for i in n:\n",
        "    a=a+i\n",
        "  return(a)\n",
        "list=[3,6,34]\n",
        "a=avg(list)\n",
        "print(a)\n"
      ],
      "metadata": {
        "colab": {
          "base_uri": "https://localhost:8080/"
        },
        "id": "RbcyxogLKaHQ",
        "outputId": "ab000cd7-3150-444a-d8be-fca1838d1702"
      },
      "execution_count": 33,
      "outputs": [
        {
          "output_type": "stream",
          "name": "stdout",
          "text": [
            "43\n"
          ]
        }
      ]
    },
    {
      "cell_type": "code",
      "source": [
        "def kth(arr,n):\n",
        "  arr=sorted(arr,reverse=True)\n",
        "  return arr[n-1]\n",
        "list1=[4,6,8,5,5,7,9,10,9,8]\n",
        "k=1\n",
        "a=kth(list1,k)\n",
        "print(a)\n"
      ],
      "metadata": {
        "colab": {
          "base_uri": "https://localhost:8080/"
        },
        "id": "7X2js5I2M2gp",
        "outputId": "49d0faeb-0c38-4b23-8f85-6021048a0254"
      },
      "execution_count": 39,
      "outputs": [
        {
          "output_type": "stream",
          "name": "stdout",
          "text": [
            "10\n"
          ]
        }
      ]
    },
    {
      "cell_type": "code",
      "source": [
        "def sum(n):\n",
        "\tif n==0:\n",
        "\t\treturn 0\n",
        "\treturn(n%10+sum(int(n/10)))\n",
        "r=60\n",
        "ans=sum(r)\n",
        "print(ans)"
      ],
      "metadata": {
        "colab": {
          "base_uri": "https://localhost:8080/"
        },
        "id": "d3I0gffbRBZv",
        "outputId": "a3172181-456f-4819-dad6-a8c9523823e4"
      },
      "execution_count": 43,
      "outputs": [
        {
          "output_type": "stream",
          "name": "stdout",
          "text": [
            "6\n"
          ]
        }
      ]
    },
    {
      "cell_type": "code",
      "source": [
        "def power(p,n):\n",
        "    ans=p\n",
        "    for i in range(p-1):\n",
        "        ans=ans*n\n",
        "    return (ans)\n",
        "a = 2\n",
        "b = 5\n",
        "print(power(a, b))\n",
        "\n"
      ],
      "metadata": {
        "colab": {
          "base_uri": "https://localhost:8080/"
        },
        "id": "-dBlwMf6Tpr-",
        "outputId": "ddd6f6ec-9bd8-4188-9b0b-c1dcd07ba75e"
      },
      "execution_count": 54,
      "outputs": [
        {
          "output_type": "stream",
          "name": "stdout",
          "text": [
            "10\n"
          ]
        }
      ]
    },
    {
      "cell_type": "code",
      "source": [
        "def hcf(num1, num2):\n",
        "    if num2 == 0:\n",
        "        return num1\n",
        "    else:\n",
        "        return hcf(num2, num1 % num2)\n",
        "num1 = 78\n",
        "num2 = 32\n",
        "print(hcf(num1, num2))"
      ],
      "metadata": {
        "colab": {
          "base_uri": "https://localhost:8080/"
        },
        "id": "iy7Ct7PfVs4k",
        "outputId": "8159a2ce-3bdb-40b5-92c4-fc76a0a08dfd"
      },
      "execution_count": 65,
      "outputs": [
        {
          "output_type": "stream",
          "name": "stdout",
          "text": [
            "2\n"
          ]
        }
      ]
    },
    {
      "cell_type": "code",
      "source": [
        "import numpy as np\n",
        "arr= np.arange(0,10)\n",
        "arr"
      ],
      "metadata": {
        "colab": {
          "base_uri": "https://localhost:8080/"
        },
        "id": "L66nfVw7a4-d",
        "outputId": "f19ab71b-d91a-471a-cc1d-49630b541cf8"
      },
      "execution_count": 83,
      "outputs": [
        {
          "output_type": "execute_result",
          "data": {
            "text/plain": [
              "array([0, 1, 2, 3, 4, 5, 6, 7, 8, 9])"
            ]
          },
          "metadata": {},
          "execution_count": 83
        }
      ]
    },
    {
      "cell_type": "code",
      "source": [
        "a=np.arange(1,10)\n",
        "b=a.reshape(3,3)\n",
        "b\n",
        "\n"
      ],
      "metadata": {
        "colab": {
          "base_uri": "https://localhost:8080/"
        },
        "id": "l43_44IscN4x",
        "outputId": "2dc48803-4100-4046-9c6b-a4b727235190"
      },
      "execution_count": 88,
      "outputs": [
        {
          "output_type": "execute_result",
          "data": {
            "text/plain": [
              "array([[1, 2, 3],\n",
              "       [4, 5, 6],\n",
              "       [7, 8, 9]])"
            ]
          },
          "metadata": {},
          "execution_count": 88
        }
      ]
    },
    {
      "cell_type": "code",
      "source": [
        "i=np.eye(3)\n",
        "i"
      ],
      "metadata": {
        "colab": {
          "base_uri": "https://localhost:8080/"
        },
        "id": "0duyCl37f8Qo",
        "outputId": "6c00ded9-9937-47dd-a69b-924ed4baf5b5"
      },
      "execution_count": 89,
      "outputs": [
        {
          "output_type": "execute_result",
          "data": {
            "text/plain": [
              "array([[1., 0., 0.],\n",
              "       [0., 1., 0.],\n",
              "       [0., 0., 1.]])"
            ]
          },
          "metadata": {},
          "execution_count": 89
        }
      ]
    },
    {
      "cell_type": "code",
      "source": [
        "r=np.random.randn(10)\n",
        "m=np.mean(r)\n",
        "sd=np.std(r)\n",
        "print(m,sd)"
      ],
      "metadata": {
        "colab": {
          "base_uri": "https://localhost:8080/"
        },
        "id": "5y3iphtzhPI5",
        "outputId": "663bcf95-8301-4ea7-ae8d-bed46d6477f1"
      },
      "execution_count": 90,
      "outputs": [
        {
          "output_type": "stream",
          "name": "stdout",
          "text": [
            "-0.21619299030915284 0.759743456719031\n"
          ]
        }
      ]
    },
    {
      "cell_type": "code",
      "source": [
        "r=np.arange(10,21)\n",
        "e=r[:5]\n",
        "e"
      ],
      "metadata": {
        "colab": {
          "base_uri": "https://localhost:8080/"
        },
        "id": "VdZPbNOjifqs",
        "outputId": "c65e7cfa-552f-4089-d497-ec45c2723f83"
      },
      "execution_count": 95,
      "outputs": [
        {
          "output_type": "execute_result",
          "data": {
            "text/plain": [
              "array([10, 11, 12, 13, 14])"
            ]
          },
          "metadata": {},
          "execution_count": 95
        }
      ]
    },
    {
      "cell_type": "code",
      "source": [
        "v = np.arange(0,16)\n",
        "e=v.reshape(4,4)\n",
        "print(e[1,:])"
      ],
      "metadata": {
        "colab": {
          "base_uri": "https://localhost:8080/"
        },
        "id": "E_Fk4SBljPYb",
        "outputId": "f6ddeaf2-c1ef-4243-d552-20951258ff2d"
      },
      "execution_count": 97,
      "outputs": [
        {
          "output_type": "stream",
          "name": "stdout",
          "text": [
            "[4 5 6 7]\n"
          ]
        }
      ]
    },
    {
      "cell_type": "code",
      "source": [
        "a1=np.arange(1,6)\n",
        "a2=np.arange(6,11)\n",
        "b=np.vstack((a1,a2))\n",
        "a=a1+a2\n",
        "a\n",
        "\n",
        "\n"
      ],
      "metadata": {
        "colab": {
          "base_uri": "https://localhost:8080/"
        },
        "id": "oacXDdq5jvwH",
        "outputId": "e6bc5112-855d-4dfd-8f3e-2621fe638aca"
      },
      "execution_count": 103,
      "outputs": [
        {
          "output_type": "execute_result",
          "data": {
            "text/plain": [
              "array([ 7,  9, 11, 13, 15])"
            ]
          },
          "metadata": {},
          "execution_count": 103
        }
      ]
    },
    {
      "cell_type": "code",
      "source": [
        "b= np.random.rand(10)\n",
        "b[b< 0.5] = 0\n",
        "b\n"
      ],
      "metadata": {
        "colab": {
          "base_uri": "https://localhost:8080/"
        },
        "id": "M577ytkUmZJI",
        "outputId": "1d83845f-d43a-4f7c-93ff-23021c78b3d6"
      },
      "execution_count": 105,
      "outputs": [
        {
          "output_type": "execute_result",
          "data": {
            "text/plain": [
              "array([0.        , 0.92808747, 0.        , 0.        , 0.57143919,\n",
              "       0.65143261, 0.        , 0.        , 0.        , 0.69780083])"
            ]
          },
          "metadata": {},
          "execution_count": 105
        }
      ]
    },
    {
      "cell_type": "code",
      "source": [],
      "metadata": {
        "id": "xjVSEu9Vn9XD"
      },
      "execution_count": null,
      "outputs": []
    }
  ]
}