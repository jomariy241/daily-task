{
  "nbformat": 4,
  "nbformat_minor": 0,
  "metadata": {
    "colab": {
      "provenance": []
    },
    "kernelspec": {
      "name": "python3",
      "display_name": "Python 3"
    },
    "language_info": {
      "name": "python"
    }
  },
  "cells": [
    {
      "cell_type": "code",
      "execution_count": 5,
      "metadata": {
        "colab": {
          "base_uri": "https://localhost:8080/"
        },
        "id": "VRSYPUbkN9O1",
        "outputId": "bc78ebd9-8c0f-4a5e-9779-7a8c62ab7b75"
      },
      "outputs": [
        {
          "output_type": "stream",
          "name": "stdout",
          "text": [
            "enter radius7\n",
            "153.86\n"
          ]
        }
      ],
      "source": [
        "def area(r):\n",
        "  ac=3.14*r*r\n",
        "  return(ac)\n",
        "a=int(input(\"enter radius\"))\n",
        "r=area(a)\n",
        "print(r)"
      ]
    },
    {
      "cell_type": "code",
      "source": [
        "details={'joy':{'roll no.':'1','mark':'87'},\n",
        "         'aleena':{'roll no.':'5','mark':'95'},\n",
        "         'annu':{'roll no.':'12','mark':'85'}}\n",
        "\n"
      ],
      "metadata": {
        "id": "SbRr2yuYQ1LG"
      },
      "execution_count": 13,
      "outputs": []
    },
    {
      "cell_type": "code",
      "source": [
        "details['joy']"
      ],
      "metadata": {
        "colab": {
          "base_uri": "https://localhost:8080/"
        },
        "id": "G_3PCTnmUe2S",
        "outputId": "51d710d2-1b03-43b9-9305-18b917577094"
      },
      "execution_count": 12,
      "outputs": [
        {
          "output_type": "execute_result",
          "data": {
            "text/plain": [
              "{'roll no.': '1', 'mark': '87'}"
            ]
          },
          "metadata": {},
          "execution_count": 12
        }
      ]
    },
    {
      "cell_type": "code",
      "source": [
        "import numpy as np\n",
        "l = np.array([12, 3, 47, 10])\n",
        "b=l.max()\n",
        "b"
      ],
      "metadata": {
        "colab": {
          "base_uri": "https://localhost:8080/"
        },
        "id": "G0gk_CPkUvs9",
        "outputId": "26941b92-288a-4095-fa3d-ef26aab879ac"
      },
      "execution_count": 31,
      "outputs": [
        {
          "output_type": "execute_result",
          "data": {
            "text/plain": [
              "47"
            ]
          },
          "metadata": {},
          "execution_count": 31
        }
      ]
    },
    {
      "cell_type": "code",
      "source": [
        "num=0\n",
        "for i in range(1,11):\n",
        "    p=num+i\n",
        "    print(\"Current Number\",i,\"Previous Number\",num,\" Sum:\",p)\n",
        "    num=i"
      ],
      "metadata": {
        "colab": {
          "base_uri": "https://localhost:8080/"
        },
        "id": "09wtyH0xV5hj",
        "outputId": "3bfb59ed-d2b1-414e-c5d7-b0ba03226028"
      },
      "execution_count": 6,
      "outputs": [
        {
          "output_type": "stream",
          "name": "stdout",
          "text": [
            "Current Number 1 Previous Number 0  Sum: 1\n",
            "Current Number 2 Previous Number 1  Sum: 3\n",
            "Current Number 3 Previous Number 2  Sum: 5\n",
            "Current Number 4 Previous Number 3  Sum: 7\n",
            "Current Number 5 Previous Number 4  Sum: 9\n",
            "Current Number 6 Previous Number 5  Sum: 11\n",
            "Current Number 7 Previous Number 6  Sum: 13\n",
            "Current Number 8 Previous Number 7  Sum: 15\n",
            "Current Number 9 Previous Number 8  Sum: 17\n",
            "Current Number 10 Previous Number 9  Sum: 19\n"
          ]
        }
      ]
    },
    {
      "cell_type": "code",
      "source": [
        "def divisible(list1):\n",
        "    for num in list1:\n",
        "        if num % 5==0:\n",
        "            print(num)\n",
        "x=[10, 20,33,46,55]\n",
        "print(divisible(x))"
      ],
      "metadata": {
        "colab": {
          "base_uri": "https://localhost:8080/"
        },
        "id": "5RraQYYi8rjH",
        "outputId": "1c366df9-e650-4388-8f34-d4669a4315aa"
      },
      "execution_count": 27,
      "outputs": [
        {
          "output_type": "stream",
          "name": "stdout",
          "text": [
            "10\n",
            "20\n",
            "55\n",
            "None\n"
          ]
        }
      ]
    },
    {
      "cell_type": "code",
      "source": [
        "n=int(input(\"input a no.\"))\n",
        "if n>1:\n",
        "  for i in range(2,n):\n",
        "     if(n%i==0):\n",
        "      print(n,\"is not prime\")\n",
        "      break\n",
        "  else:\n",
        "    print(n,\"is prime\")\n",
        "else:\n",
        "  print(n,\"is prime\")\n",
        "\n"
      ],
      "metadata": {
        "colab": {
          "base_uri": "https://localhost:8080/"
        },
        "id": "D5k1jcDo9kd_",
        "outputId": "c71b45b7-ff43-4ca9-d18e-d3b13d9b445e"
      },
      "execution_count": 28,
      "outputs": [
        {
          "output_type": "stream",
          "name": "stdout",
          "text": [
            "input a no.13\n",
            "13 is prime\n"
          ]
        }
      ]
    },
    {
      "cell_type": "code",
      "source": [
        "def reverse(list1):\n",
        "   num= list1[::-1]\n",
        "   return num\n",
        "list1 = [10, 11, 12, 13, 14, 15]\n",
        "print(reverse(list1))"
      ],
      "metadata": {
        "colab": {
          "base_uri": "https://localhost:8080/"
        },
        "id": "ZBN8puZqAnNN",
        "outputId": "02d5a3ba-a794-4931-8072-714de4d6d64e"
      },
      "execution_count": 30,
      "outputs": [
        {
          "output_type": "stream",
          "name": "stdout",
          "text": [
            "[15, 14, 13, 12, 11, 10]\n"
          ]
        }
      ]
    },
    {
      "cell_type": "code",
      "source": [
        "n=4\n",
        "for i in range(0,n):\n",
        "        for j in range(0,i+1):\n",
        "            print(\"* \", end=\"\")\n",
        "        print()"
      ],
      "metadata": {
        "colab": {
          "base_uri": "https://localhost:8080/"
        },
        "id": "k-adrof5BIlV",
        "outputId": "d468d2e0-bb41-4be3-d2a6-576231a59873"
      },
      "execution_count": 36,
      "outputs": [
        {
          "output_type": "stream",
          "name": "stdout",
          "text": [
            "* \n",
            "* * \n",
            "* * * \n",
            "* * * * \n"
          ]
        }
      ]
    },
    {
      "cell_type": "code",
      "source": [
        "import numpy as np\n",
        "l = np.array([13,12,7])\n",
        "b=l.max()\n",
        "b"
      ],
      "metadata": {
        "colab": {
          "base_uri": "https://localhost:8080/"
        },
        "id": "kYxp_yEtBf1x",
        "outputId": "3f412e34-3b50-4edc-e7f0-aa8491112c45"
      },
      "execution_count": 35,
      "outputs": [
        {
          "output_type": "execute_result",
          "data": {
            "text/plain": [
              "13"
            ]
          },
          "metadata": {},
          "execution_count": 35
        }
      ]
    },
    {
      "cell_type": "code",
      "source": [
        "n = 5\n",
        "for i in range(n):\n",
        "    for j in range(i):\n",
        "        print('* ', end=\"\")\n",
        "    print('')\n",
        "for i in range(n, 0, -1):\n",
        "    for j in range(i):\n",
        "        print('* ', end=\"\")\n",
        "    print('')"
      ],
      "metadata": {
        "colab": {
          "base_uri": "https://localhost:8080/"
        },
        "id": "a8Bdq-OEC-Uu",
        "outputId": "890bff17-5d47-4085-c4e3-d2349dc92e55"
      },
      "execution_count": 37,
      "outputs": [
        {
          "output_type": "stream",
          "name": "stdout",
          "text": [
            "\n",
            "* \n",
            "* * \n",
            "* * * \n",
            "* * * * \n",
            "* * * * * \n",
            "* * * * \n",
            "* * * \n",
            "* * \n",
            "* \n"
          ]
        }
      ]
    },
    {
      "cell_type": "code",
      "source": [],
      "metadata": {
        "id": "5pM-FNA2EWWr"
      },
      "execution_count": null,
      "outputs": []
    }
  ]
}