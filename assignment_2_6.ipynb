{
  "nbformat": 4,
  "nbformat_minor": 0,
  "metadata": {
    "colab": {
      "provenance": []
    },
    "kernelspec": {
      "name": "python3",
      "display_name": "Python 3"
    },
    "language_info": {
      "name": "python"
    }
  },
  "cells": [
    {
      "cell_type": "code",
      "source": [
        "n=input(\"Enter the String: \").lower()\n",
        "s={}\n",
        "for i in n:\n",
        "    if i in s:\n",
        "        s[i]+=1\n",
        "    else:\n",
        "        s[i]=1\n",
        "print(s)\n"
      ],
      "metadata": {
        "colab": {
          "base_uri": "https://localhost:8080/"
        },
        "id": "miHjgaU5rj_i",
        "outputId": "6d2ab996-cc90-433f-ee45-a0888391c7a0"
      },
      "execution_count": null,
      "outputs": [
        {
          "output_type": "stream",
          "name": "stdout",
          "text": [
            "Enter the String: hello\n",
            "{'h': 1, 'e': 1, 'l': 2, 'o': 1}\n"
          ]
        }
      ]
    },
    {
      "cell_type": "code",
      "source": [
        "def max(a,b,c):\n",
        "  if (a>=b) and (a>=c):\n",
        "        largest=a\n",
        "  elif (b>=a) and (b>=c):\n",
        "        largest=b\n",
        "  else:\n",
        "    largest=c\n",
        "  return largest\n",
        "a=12\n",
        "b=10\n",
        "c=15\n",
        "print(max(a,b,c))"
      ],
      "metadata": {
        "colab": {
          "base_uri": "https://localhost:8080/"
        },
        "id": "kRk1YoMZsgns",
        "outputId": "dc727e14-d8ba-4695-a2fc-3f23ddfa3692"
      },
      "execution_count": null,
      "outputs": [
        {
          "output_type": "stream",
          "name": "stdout",
          "text": [
            "15\n"
          ]
        }
      ]
    },
    {
      "cell_type": "code",
      "source": [
        "def sum(n):\n",
        "while n>s:\n",
        "  s=n*n*n\n",
        "num=10\n",
        "print(sum(num))"
      ],
      "metadata": {
        "id": "K0eJPXWItuGA",
        "colab": {
          "base_uri": "https://localhost:8080/",
          "height": 110
        },
        "outputId": "06ff4846-d1bc-43c5-b918-3f6f468f6dd6"
      },
      "execution_count": 12,
      "outputs": [
        {
          "output_type": "error",
          "ename": "IndentationError",
          "evalue": "expected an indented block after function definition on line 1 (<ipython-input-12-03204a993617>, line 2)",
          "traceback": [
            "\u001b[0;36m  File \u001b[0;32m\"<ipython-input-12-03204a993617>\"\u001b[0;36m, line \u001b[0;32m2\u001b[0m\n\u001b[0;31m    while n>s:\u001b[0m\n\u001b[0m    ^\u001b[0m\n\u001b[0;31mIndentationError\u001b[0m\u001b[0;31m:\u001b[0m expected an indented block after function definition on line 1\n"
          ]
        }
      ]
    },
    {
      "cell_type": "code",
      "source": [
        "def sum(n):\n",
        "    s=0\n",
        "    for i in range(1,n+1):\n",
        "        s=i*i*i\n",
        "    return s\n",
        "n=4\n",
        "print(sum(n))\n"
      ],
      "metadata": {
        "colab": {
          "base_uri": "https://localhost:8080/"
        },
        "id": "OYURfp3zyJqO",
        "outputId": "ee52138b-8ff7-4ce6-9851-297197db8026"
      },
      "execution_count": 25,
      "outputs": [
        {
          "output_type": "stream",
          "name": "stdout",
          "text": [
            "64\n"
          ]
        }
      ]
    },
    {
      "cell_type": "code",
      "source": [
        "for i in range(1,11):\n",
        "  if(i%2==0 and i%5==0):\n",
        "    print(\"fizzbuzz\")\n",
        "  elif(i%2==0):\n",
        "    print(\"fizz\")\n",
        "  elif(i%5==0):\n",
        "    print(\"buzz\")\n",
        "  else:\n",
        "    print(i)\n",
        "\n"
      ],
      "metadata": {
        "colab": {
          "base_uri": "https://localhost:8080/"
        },
        "id": "1R574W6by0K0",
        "outputId": "13f1e527-7fac-4811-ad4a-60007d9f2ccc"
      },
      "execution_count": 26,
      "outputs": [
        {
          "output_type": "stream",
          "name": "stdout",
          "text": [
            "1\n",
            "fizz\n",
            "3\n",
            "fizz\n",
            "buzz\n",
            "fizz\n",
            "7\n",
            "fizz\n",
            "9\n",
            "fizzbuzz\n"
          ]
        }
      ]
    },
    {
      "cell_type": "code",
      "source": [
        "def sqr(n):\n",
        "    s = 0\n",
        "    for num in n:\n",
        "        for i in range(1, num + 1):\n",
        "            s += i * i\n",
        "    return s\n",
        "\n",
        "n = (2, 5, 3, 1)\n",
        "print(sqr(n))"
      ],
      "metadata": {
        "colab": {
          "base_uri": "https://localhost:8080/"
        },
        "id": "1XUXZLm41MAG",
        "outputId": "aabae00b-109b-477f-ab44-3347edfd5c1d"
      },
      "execution_count": 39,
      "outputs": [
        {
          "output_type": "stream",
          "name": "stdout",
          "text": [
            "75\n"
          ]
        }
      ]
    },
    {
      "cell_type": "code",
      "source": [
        "print(\"even number\")\n",
        "for i in range(1,16):\n",
        "    if i%2==0:\n",
        "        print(i)\n",
        "print(\"Odd numbers:\")\n",
        "for i in range(1,16):\n",
        "    if i%2!=0:\n",
        "        print(i)"
      ],
      "metadata": {
        "colab": {
          "base_uri": "https://localhost:8080/"
        },
        "id": "_sr0CIjg9t0M",
        "outputId": "286a9955-19ab-452f-e5c6-718cd5973b3e"
      },
      "execution_count": 47,
      "outputs": [
        {
          "output_type": "stream",
          "name": "stdout",
          "text": [
            "even number\n",
            "2\n",
            "4\n",
            "6\n",
            "8\n",
            "10\n",
            "12\n",
            "14\n",
            "Odd numbers:\n",
            "1\n",
            "3\n",
            "5\n",
            "7\n",
            "9\n",
            "11\n",
            "13\n",
            "15\n"
          ]
        }
      ]
    },
    {
      "cell_type": "code",
      "source": [
        "f=41\n",
        "c= (f- 32) * 5 / 9\n",
        "print(\"Celsius\",c)"
      ],
      "metadata": {
        "colab": {
          "base_uri": "https://localhost:8080/"
        },
        "id": "lie3c7k8G-To",
        "outputId": "a209dfbe-194a-414e-b207-c0e8d62fa393"
      },
      "execution_count": 51,
      "outputs": [
        {
          "output_type": "stream",
          "name": "stdout",
          "text": [
            "Celsius 5.0\n"
          ]
        }
      ]
    },
    {
      "cell_type": "code",
      "source": [
        "\n",
        "def factorial(n):\n",
        "    if n==0:\n",
        "        return 1\n",
        "    else:\n",
        "        return n*factorial(n-1)\n",
        "number=3\n",
        "result=factorial(number)\n",
        "print(result)"
      ],
      "metadata": {
        "colab": {
          "base_uri": "https://localhost:8080/"
        },
        "id": "UmHh1SkXJB3k",
        "outputId": "5a537b13-fe94-4111-dfbb-0d6e60c08459"
      },
      "execution_count": 54,
      "outputs": [
        {
          "output_type": "stream",
          "name": "stdout",
          "text": [
            "6\n"
          ]
        }
      ]
    },
    {
      "cell_type": "code",
      "source": [],
      "metadata": {
        "id": "2KPhdZ2SKrgE"
      },
      "execution_count": null,
      "outputs": []
    }
  ]
}