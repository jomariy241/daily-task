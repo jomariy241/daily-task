{
  "nbformat": 4,
  "nbformat_minor": 0,
  "metadata": {
    "colab": {
      "provenance": []
    },
    "kernelspec": {
      "name": "python3",
      "display_name": "Python 3"
    },
    "language_info": {
      "name": "python"
    }
  },
  "cells": [
    {
      "cell_type": "code",
      "execution_count": null,
      "metadata": {
        "colab": {
          "base_uri": "https://localhost:8080/"
        },
        "id": "r_eJRonQEprS",
        "outputId": "1c83a591-9af3-417c-c035-657008116b44"
      },
      "outputs": [
        {
          "output_type": "stream",
          "name": "stdout",
          "text": [
            "hello \n"
          ]
        }
      ],
      "source": [
        "string=\"hello world\"\n",
        "s=string[0:6]\n",
        "print(s)"
      ]
    },
    {
      "cell_type": "code",
      "source": [
        "string=\"python is fun\"\n",
        "s=string[7:9]\n",
        "print(s)"
      ],
      "metadata": {
        "colab": {
          "base_uri": "https://localhost:8080/"
        },
        "id": "ivYzrM3UFwGU",
        "outputId": "1e645927-991a-490c-fe05-8a66b7ccbef1"
      },
      "execution_count": null,
      "outputs": [
        {
          "output_type": "stream",
          "name": "stdout",
          "text": [
            "is\n"
          ]
        }
      ]
    },
    {
      "cell_type": "code",
      "source": [
        "string=\"Programming\"\n",
        "s=string[3:7]\n",
        "print(s)"
      ],
      "metadata": {
        "colab": {
          "base_uri": "https://localhost:8080/"
        },
        "id": "Z3jVmrpPHXiX",
        "outputId": "c06b4c5c-5d76-417c-bef7-4df01f7f902c"
      },
      "execution_count": null,
      "outputs": [
        {
          "output_type": "stream",
          "name": "stdout",
          "text": [
            "gram\n"
          ]
        }
      ]
    },
    {
      "cell_type": "code",
      "source": [
        "string=\"abcdefgh\"\n",
        "i=string[0:7:2]\n",
        "print(i)\n",
        "\n"
      ],
      "metadata": {
        "colab": {
          "base_uri": "https://localhost:8080/"
        },
        "id": "IR7J0HPdIX8x",
        "outputId": "5a9cb2d2-10af-4b44-f3b6-65c9c3771d5d"
      },
      "execution_count": null,
      "outputs": [
        {
          "output_type": "stream",
          "name": "stdout",
          "text": [
            "aceg\n"
          ]
        }
      ]
    },
    {
      "cell_type": "code",
      "source": [
        "string=\"abcdefg\"\n",
        "s=string[-3:]\n",
        "print(s)\n"
      ],
      "metadata": {
        "colab": {
          "base_uri": "https://localhost:8080/"
        },
        "id": "8a63YM3kMiZa",
        "outputId": "53f4ea36-f41d-4b21-cb81-46eb712971da"
      },
      "execution_count": null,
      "outputs": [
        {
          "output_type": "stream",
          "name": "stdout",
          "text": [
            "efg\n"
          ]
        }
      ]
    },
    {
      "cell_type": "code",
      "source": [
        "string=\"Data Science\"\n",
        "s=string[-3:]\n",
        "print(s)"
      ],
      "metadata": {
        "colab": {
          "base_uri": "https://localhost:8080/"
        },
        "id": "Op1-ormlOkP6",
        "outputId": "db4b5cce-690f-418f-9864-8b068e00fe89"
      },
      "execution_count": null,
      "outputs": [
        {
          "output_type": "stream",
          "name": "stdout",
          "text": [
            "nce\n"
          ]
        }
      ]
    },
    {
      "cell_type": "code",
      "source": [
        "string=\"abcdefghij\"\n",
        "i=string[0:19:2]\n",
        "print(i)"
      ],
      "metadata": {
        "colab": {
          "base_uri": "https://localhost:8080/"
        },
        "id": "uuUFEKLlPUrG",
        "outputId": "f685d86a-b1c9-4113-c25b-877032dcbdcd"
      },
      "execution_count": null,
      "outputs": [
        {
          "output_type": "stream",
          "name": "stdout",
          "text": [
            "acegi\n"
          ]
        }
      ]
    },
    {
      "cell_type": "code",
      "source": [
        "list1=1,2,3,4,5,6,7,8,9,0\n",
        "for num in list1:\n",
        "  if num%2!=0:\n",
        "    print(num,end='')\n",
        "\n"
      ],
      "metadata": {
        "colab": {
          "base_uri": "https://localhost:8080/"
        },
        "id": "DDZ8v_MCP-MB",
        "outputId": "413f57bf-c13b-42da-a413-f0796bceb249"
      },
      "execution_count": null,
      "outputs": [
        {
          "output_type": "stream",
          "name": "stdout",
          "text": [
            "13579"
          ]
        }
      ]
    },
    {
      "cell_type": "code",
      "source": [
        "string=\"hello\"[::-1]\n",
        "print(string)"
      ],
      "metadata": {
        "colab": {
          "base_uri": "https://localhost:8080/"
        },
        "id": "daaL39xtZQhv",
        "outputId": "c8e378fc-2100-46b5-dd39-dcf442f1f702"
      },
      "execution_count": null,
      "outputs": [
        {
          "output_type": "stream",
          "name": "stdout",
          "text": [
            "olleh\n"
          ]
        }
      ]
    },
    {
      "cell_type": "code",
      "source": [
        "string=\"abcdefghijkl\"\n",
        "s=string[0:11:2]\n",
        "print(s)\n"
      ],
      "metadata": {
        "colab": {
          "base_uri": "https://localhost:8080/"
        },
        "id": "0ccCNRxTnFTL",
        "outputId": "abf5f129-3dbd-479e-b825-c112688acaee"
      },
      "execution_count": null,
      "outputs": [
        {
          "output_type": "stream",
          "name": "stdout",
          "text": [
            "acegik\n"
          ]
        }
      ]
    },
    {
      "cell_type": "code",
      "source": [
        "a=[3,6,8,9]\n",
        "s=a[0]+a[1]+a[2]+a[3]\n",
        "print(s)"
      ],
      "metadata": {
        "colab": {
          "base_uri": "https://localhost:8080/"
        },
        "id": "wpA2rF645xdb",
        "outputId": "2a0c03d4-dae7-4a54-d91c-6ed4405a7b0c"
      },
      "execution_count": 143,
      "outputs": [
        {
          "output_type": "stream",
          "name": "stdout",
          "text": [
            "26\n"
          ]
        }
      ]
    },
    {
      "cell_type": "code",
      "source": [
        "s=\"Python is fun\"\n",
        "l=len(s)\n",
        "h=len(s)//2\n",
        "print(l)\n",
        "print(h)\n",
        "\n"
      ],
      "metadata": {
        "colab": {
          "base_uri": "https://localhost:8080/"
        },
        "id": "tTi5eh9O789r",
        "outputId": "348c06f2-63aa-4402-9651-9afcff343664"
      },
      "execution_count": 71,
      "outputs": [
        {
          "output_type": "stream",
          "name": "stdout",
          "text": [
            "13\n",
            "6\n"
          ]
        }
      ]
    },
    {
      "cell_type": "code",
      "source": [
        "a=(78,45,32,19,82,77,40,39)\n",
        "print(t)"
      ],
      "metadata": {
        "id": "0vT1Ypa6E6dB",
        "outputId": "994f4233-c8f7-4a04-ed31-fcda778464dc",
        "colab": {
          "base_uri": "https://localhost:8080/"
        }
      },
      "execution_count": 123,
      "outputs": [
        {
          "output_type": "stream",
          "name": "stdout",
          "text": [
            "(78, 45, 32, 19, 82, 77, 40, 39)\n"
          ]
        }
      ]
    },
    {
      "cell_type": "code",
      "source": [
        "a.insert(2,100)\n",
        "print(a)"
      ],
      "metadata": {
        "id": "G45L6BX4RuAz",
        "outputId": "ff213cff-09c8-407b-b84b-bffa27def840",
        "colab": {
          "base_uri": "https://localhost:8080/"
        }
      },
      "execution_count": 129,
      "outputs": [
        {
          "output_type": "stream",
          "name": "stdout",
          "text": [
            "[19, 10, 100, 100, 200, 200, 55, 31, 10, 65, 77]\n"
          ]
        }
      ]
    },
    {
      "cell_type": "code",
      "source": [
        "a=(19,32,10,55,31,32,94,29,10,65,77,40,40)\n",
        "print(lista)"
      ],
      "metadata": {
        "id": "tKXQfvKFJuBK",
        "outputId": "b3c23e63-be45-4dfe-cf10-8b5981020e86",
        "colab": {
          "base_uri": "https://localhost:8080/"
        }
      },
      "execution_count": 103,
      "outputs": [
        {
          "output_type": "stream",
          "name": "stdout",
          "text": [
            "(19, 32, 10, 55, 31, 32, 94, 29, 10, 65, 77, 40, 40)\n"
          ]
        }
      ]
    },
    {
      "cell_type": "code",
      "source": [
        "a=[x for x in a if x != 40]\n",
        "print(a)"
      ],
      "metadata": {
        "id": "zfTsVyPbPsTA",
        "outputId": "ffe303a1-9947-46fb-c7df-de6959a2de44",
        "colab": {
          "base_uri": "https://localhost:8080/"
        }
      },
      "execution_count": 113,
      "outputs": [
        {
          "output_type": "stream",
          "name": "stdout",
          "text": [
            "[19, 10, 55, 31, 32, 94, 29, 10, 65, 77]\n"
          ]
        }
      ]
    },
    {
      "cell_type": "code",
      "source": [
        "a.pop(5)"
      ],
      "metadata": {
        "id": "h9YKQA4ZP4oR",
        "outputId": "ba8bd055-bcf6-4e9a-918c-8c51173bbe72",
        "colab": {
          "base_uri": "https://localhost:8080/"
        }
      },
      "execution_count": 133,
      "outputs": [
        {
          "output_type": "execute_result",
          "data": {
            "text/plain": [
              "200"
            ]
          },
          "metadata": {},
          "execution_count": 133
        }
      ]
    },
    {
      "cell_type": "code",
      "source": [
        "a.insert(2, 200)\n",
        "print(a)"
      ],
      "metadata": {
        "id": "LL_XyagAQGOX",
        "outputId": "13baa47a-c6cb-4735-88ab-1005da165240",
        "colab": {
          "base_uri": "https://localhost:8080/"
        }
      },
      "execution_count": 121,
      "outputs": [
        {
          "output_type": "stream",
          "name": "stdout",
          "text": [
            "[19, 10, 200, 200, 55, 31, 32, 10, 65, 77]\n"
          ]
        }
      ]
    },
    {
      "cell_type": "code",
      "source": [
        "a[9] = 300\n",
        "print(a)"
      ],
      "metadata": {
        "id": "Zx4jLvGFSTeA",
        "outputId": "ad9d7710-3e17-4728-d9e5-9ac153f1f197",
        "colab": {
          "base_uri": "https://localhost:8080/"
        }
      },
      "execution_count": 135,
      "outputs": [
        {
          "output_type": "stream",
          "name": "stdout",
          "text": [
            "[19, 10, 100, 100, 200, 55, 31, 10, 65, 300]\n"
          ]
        }
      ]
    },
    {
      "cell_type": "code",
      "source": [
        "len(a)"
      ],
      "metadata": {
        "id": "dH4UNe3wTkZq",
        "outputId": "5ca8200a-285f-475b-d585-d05663832cc1",
        "colab": {
          "base_uri": "https://localhost:8080/"
        }
      },
      "execution_count": 136,
      "outputs": [
        {
          "output_type": "execute_result",
          "data": {
            "text/plain": [
              "10"
            ]
          },
          "metadata": {},
          "execution_count": 136
        }
      ]
    },
    {
      "cell_type": "code",
      "source": [
        "max(a)"
      ],
      "metadata": {
        "id": "gXdBd-Z4T2He",
        "outputId": "992e5c4e-8c19-4ad7-b724-aa273ad749cd",
        "colab": {
          "base_uri": "https://localhost:8080/"
        }
      },
      "execution_count": 137,
      "outputs": [
        {
          "output_type": "execute_result",
          "data": {
            "text/plain": [
              "300"
            ]
          },
          "metadata": {},
          "execution_count": 137
        }
      ]
    },
    {
      "cell_type": "code",
      "source": [],
      "metadata": {
        "id": "M30Fc3kOVL9u"
      },
      "execution_count": null,
      "outputs": []
    }
  ]
}